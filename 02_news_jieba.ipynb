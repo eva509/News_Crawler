{
  "nbformat": 4,
  "nbformat_minor": 0,
  "metadata": {
    "colab": {
      "provenance": [],
      "authorship_tag": "ABX9TyOrv/IpDTHSXiTPI3Pf65gf",
      "include_colab_link": true
    },
    "kernelspec": {
      "name": "python3",
      "display_name": "Python 3"
    },
    "language_info": {
      "name": "python"
    }
  },
  "cells": [
    {
      "cell_type": "markdown",
      "metadata": {
        "id": "view-in-github",
        "colab_type": "text"
      },
      "source": [
        "<a href=\"https://colab.research.google.com/github/hui509/News_Crawler/blob/main/02_news_jieba.ipynb\" target=\"_parent\"><img src=\"https://colab.research.google.com/assets/colab-badge.svg\" alt=\"Open In Colab\"/></a>"
      ]
    },
    {
      "cell_type": "code",
      "execution_count": null,
      "metadata": {
        "id": "VAvNH6QhxQZn"
      },
      "outputs": [],
      "source": [
        "import requests \n",
        "from bs4 import BeautifulSoup\n",
        "import jieba\n",
        "\n",
        "# 利用 requests 對 API 來源發送一個請求\n",
        "response = requests.get('https://udn.com/news/breaknews/1')\n",
        "soup = BeautifulSoup(response.text,\"html.parser\")\n",
        "# 定義news容器儲存資料\n",
        "news = []\n",
        "for link in soup.find_all('h3', class_='rounded-thumb__title')[:4]:\n",
        "    news_url = link.a['href']\n",
        "    news_response = requests.get('https://udn.com' + news_url)\n",
        "    news_soup = BeautifulSoup(news_response.text,\"html.parser\")\n",
        "    news_content = news_soup.find('div', class_='article-content__paragraph').text.strip().replace('\\n', ' ')\n",
        "    news.append(news_content)\n",
        "\n",
        "# 精確模式斷詞\n",
        "tokens = []\n",
        "for d in news:\n",
        "    token = list(jieba.cut(d, HMM=False)) # token = d 字串斷詞結果\n",
        "    tokens.append(token)\n",
        "\n",
        "# 將斷詞存入word_count\n",
        "word_count = {}\n",
        "for t in tokens:\n",
        "    for c in t:\n",
        "        if c not in word_count:\n",
        "            word_count[c] = 1\n",
        "        else:\n",
        "            word_count[c] += 1\n",
        "\n",
        "# 依斷詞出現的次數由多至少排序\n",
        "word_count = dict(sorted(word_count.items(),key=lambda item:item[1],reverse=True))\n",
        "\n",
        "print(word_count)\n"
      ]
    }
  ]
}